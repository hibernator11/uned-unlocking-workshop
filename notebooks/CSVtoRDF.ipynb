{
 "cells": [
  {
   "cell_type": "markdown",
   "id": "75c3515c-717a-4e15-a9d2-2ba0f6008e30",
   "metadata": {},
   "source": [
    "## Introducción\n",
    "\n",
    "Este ejemplo permite reproducir los pasos a ejecutar en OpenRefine. En este caso se utiliza código python para realizar el proceso de transformación a RDF."
   ]
  },
  {
   "cell_type": "markdown",
   "id": "eff3da6d-fa55-442f-9881-3c62983a63ac",
   "metadata": {},
   "source": [
    "### En primer lugar, importamos las librerías necesarias"
   ]
  },
  {
   "cell_type": "code",
   "execution_count": 1,
   "id": "4fbba6d9-d158-401e-bb43-fa1e88e4521c",
   "metadata": {},
   "outputs": [],
   "source": [
    "from rdflib import Graph, URIRef, Literal, Namespace\n",
    "from rdflib.namespace import FOAF, RDF, DCTERMS, VOID, DC, SKOS\n",
    "import pandas as pd"
   ]
  },
  {
   "cell_type": "markdown",
   "id": "cb7165b6-aafc-40ba-b215-6579e9a8f192",
   "metadata": {},
   "source": [
    "### Definimos el dominio de ejemplo"
   ]
  },
  {
   "cell_type": "code",
   "execution_count": 2,
   "id": "f23de8ef-f04e-4caa-9ad9-07ed7eb6dcd2",
   "metadata": {},
   "outputs": [],
   "source": [
    "dominio = 'https://example.org/'"
   ]
  },
  {
   "cell_type": "markdown",
   "id": "243e0d16-ebaf-4eca-a6ea-7faf70483d6f",
   "metadata": {},
   "source": [
    "### Instanciamos los espacios de nombre a utilizar"
   ]
  },
  {
   "cell_type": "code",
   "execution_count": 3,
   "id": "1bc1a800-6d9e-4c3b-912f-25bb66042c09",
   "metadata": {},
   "outputs": [],
   "source": [
    "g = Graph()\n",
    "g.bind(\"foaf\", FOAF)\n",
    "g.bind(\"rdf\", RDF)\n",
    "g.bind(\"dcterms\", DCTERMS)\n",
    "g.bind(\"dc\", DC)\n",
    "g.bind(\"void\", VOID)\n",
    "g.bind(\"skos\", SKOS)\n",
    "\n",
    "schema = Namespace(\"https://schema.org/\")\n",
    "g.bind(\"schema\", schema)"
   ]
  },
  {
   "cell_type": "markdown",
   "id": "7f914915-be1b-4fa5-b11d-e1cb6814fa62",
   "metadata": {},
   "source": [
    "### Ahora comenzamos a leer las filas del fichero CSV"
   ]
  },
  {
   "cell_type": "code",
   "execution_count": 4,
   "id": "e927d075-2b42-4909-a8ed-f6da3e52aa86",
   "metadata": {},
   "outputs": [
    {
     "name": "stdout",
     "output_type": "stream",
     "text": [
      "                              titulo       fecha  \\\n",
      "0                             titulo       fecha   \n",
      "1                   Pintura de Ameca  1579-10-02   \n",
      "2               Pintura de Cuzcatlan  1580-10-26   \n",
      "3                 Pintura de Cholula  1580-11-30   \n",
      "4              Pintura de Zapotitlan  1579-11-22   \n",
      "5               Pintura de Acapistla  1580-10-10   \n",
      "6   Pintura de Atengo y Misquiahuala  1579-10-08   \n",
      "7                Pintura de Cempoala  1580-11-01   \n",
      "8             Pintura de Atlatlauhca  1580-09-17   \n",
      "9            Pintura de Coatzacualco  1580-04-29   \n",
      "10              Pintura de Culhuacan  1580-01-17   \n",
      "\n",
      "                                            thumbnail  \\\n",
      "0                                           thumbnail   \n",
      "1   https://curio.lib.utexas.edu/assets/DAMS/utbla...   \n",
      "2   https://curio.lib.utexas.edu/assets/DAMS/utbla...   \n",
      "3   https://curio.lib.utexas.edu/assets/DAMS/utbla...   \n",
      "4   https://curio.lib.utexas.edu/assets/DAMS/utbla...   \n",
      "5   https://curio.lib.utexas.edu/assets/DAMS/utbla...   \n",
      "6   https://curio.lib.utexas.edu/assets/DAMS/utbla...   \n",
      "7   https://curio.lib.utexas.edu/assets/DAMS/utbla...   \n",
      "8   https://curio.lib.utexas.edu/assets/DAMS/utbla...   \n",
      "9   https://curio.lib.utexas.edu/assets/DAMS/utbla...   \n",
      "10  https://curio.lib.utexas.edu/assets/DAMS/utbla...   \n",
      "\n",
      "                                             licencia  \\\n",
      "0                                            licencia   \n",
      "1   https://creativecommons.org/publicdomain/mark/...   \n",
      "2   https://creativecommons.org/publicdomain/mark/...   \n",
      "3   https://creativecommons.org/publicdomain/mark/...   \n",
      "4   https://creativecommons.org/publicdomain/mark/...   \n",
      "5   https://creativecommons.org/publicdomain/mark/...   \n",
      "6   https://creativecommons.org/publicdomain/mark/...   \n",
      "7   https://creativecommons.org/publicdomain/mark/...   \n",
      "8   https://creativecommons.org/publicdomain/mark/...   \n",
      "9   https://creativecommons.org/publicdomain/mark/...   \n",
      "10  https://creativecommons.org/publicdomain/mark/...   \n",
      "\n",
      "                                          urlmanifest  \n",
      "0                                         urlmanifest  \n",
      "1   https://curio.lib.utexas.edu/assets/DAMS/utbla...  \n",
      "2   https://curio.lib.utexas.edu/assets/DAMS/utbla...  \n",
      "3   https://curio.lib.utexas.edu/assets/DAMS/utbla...  \n",
      "4   https://curio.lib.utexas.edu/assets/DAMS/utbla...  \n",
      "5   https://curio.lib.utexas.edu/assets/DAMS/utbla...  \n",
      "6   https://curio.lib.utexas.edu/assets/DAMS/utbla...  \n",
      "7   https://curio.lib.utexas.edu/assets/DAMS/utbla...  \n",
      "8   https://curio.lib.utexas.edu/assets/DAMS/utbla...  \n",
      "9   https://curio.lib.utexas.edu/assets/DAMS/utbla...  \n",
      "10  https://curio.lib.utexas.edu/assets/DAMS/utbla...  \n"
     ]
    }
   ],
   "source": [
    "df = pd.read_csv ('../output/metadatos.csv', names=('titulo','fecha','thumbnail',\\\n",
    "                             'licencia','urlmanifest'))\n",
    "print(df)"
   ]
  },
  {
   "cell_type": "code",
   "execution_count": 8,
   "id": "e34a641a-b161-4f4e-818f-b32ca3bd7fe7",
   "metadata": {},
   "outputs": [
    {
     "ename": "NameError",
     "evalue": "name 'ffila' is not defined",
     "output_type": "error",
     "traceback": [
      "\u001b[0;31m---------------------------------------------------------------------------\u001b[0m",
      "\u001b[0;31mNameError\u001b[0m                                 Traceback (most recent call last)",
      "Cell \u001b[0;32mIn[8], line 16\u001b[0m\n\u001b[1;32m     13\u001b[0m \u001b[38;5;28;01mif\u001b[39;00m pd\u001b[38;5;241m.\u001b[39mnotnull(fila[\u001b[38;5;124m\"\u001b[39m\u001b[38;5;124mthumbnail\u001b[39m\u001b[38;5;124m\"\u001b[39m]):\n\u001b[1;32m     14\u001b[0m     g\u001b[38;5;241m.\u001b[39madd((mapa, schema\u001b[38;5;241m.\u001b[39mthumbnail, URIRef(fila[\u001b[38;5;124m\"\u001b[39m\u001b[38;5;124mthumbnail\u001b[39m\u001b[38;5;124m\"\u001b[39m]\u001b[38;5;241m.\u001b[39mstrip())))\n\u001b[0;32m---> 16\u001b[0m \u001b[38;5;28;01mif\u001b[39;00m pd\u001b[38;5;241m.\u001b[39mnotnull(\u001b[43mffila\u001b[49m[\u001b[38;5;124m\"\u001b[39m\u001b[38;5;124mlicencia\u001b[39m\u001b[38;5;124m\"\u001b[39m]):\n\u001b[1;32m     17\u001b[0m     g\u001b[38;5;241m.\u001b[39madd((mapa, schema\u001b[38;5;241m.\u001b[39mlicense, URIRef(fila[\u001b[38;5;124m\"\u001b[39m\u001b[38;5;124mlicencia\u001b[39m\u001b[38;5;124m\"\u001b[39m]\u001b[38;5;241m.\u001b[39mstrip())))\n",
      "\u001b[0;31mNameError\u001b[0m: name 'ffila' is not defined"
     ]
    }
   ],
   "source": [
    "for indice, fila in df.iterrows():\n",
    "    if indice != 0:\n",
    "        mapa = URIRef(dominio + str(indice))\n",
    "        g.add((mapa, RDF.type, URIRef(\"https://schema.org/CreativeWork\")))\n",
    "        \n",
    "        if pd.notnull(fila[\"titulo\"]):\n",
    "            g.add((mapa, DC.title, Literal(fila[\"titulo\"].strip())))\n",
    "            g.add((mapa, schema.name, Literal(fila[\"titulo\"].strip())))\n",
    "        \n",
    "        if pd.notnull(fila[\"fecha\"]):\n",
    "            g.add((mapa, schema.dateCreated, Literal(fila[\"fecha\"].strip())))\n",
    "            \n",
    "        if pd.notnull(fila[\"thumbnail\"]):\n",
    "            g.add((mapa, schema.thumbnail, URIRef(fila[\"thumbnail\"].strip())))\n",
    "        \n",
    "        if pd.notnull(fila[\"licencia\"]):\n",
    "            g.add((mapa, schema.license, URIRef(fila[\"licencia\"].strip())))\n",
    "                       "
   ]
  },
  {
   "cell_type": "code",
   "execution_count": null,
   "id": "8185cbbb-17dc-434b-a672-bb03a33cdc49",
   "metadata": {},
   "outputs": [],
   "source": [
    "g.serialize(destination=\"../output/dataset-fromcodigo.ttl\")"
   ]
  }
 ],
 "metadata": {
  "kernelspec": {
   "display_name": "Python 3",
   "language": "python",
   "name": "python3"
  },
  "language_info": {
   "codemirror_mode": {
    "name": "ipython",
    "version": 3
   },
   "file_extension": ".py",
   "mimetype": "text/x-python",
   "name": "python",
   "nbconvert_exporter": "python",
   "pygments_lexer": "ipython3",
   "version": "3.9.18"
  }
 },
 "nbformat": 4,
 "nbformat_minor": 5
}
