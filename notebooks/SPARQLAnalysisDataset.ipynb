{
 "cells": [
  {
   "cell_type": "markdown",
   "id": "c2dfc94a",
   "metadata": {},
   "source": [
    "## Introducción\n",
    "\n",
    "Proyecto para la extracción y transformación de la colección digital Relaciones Geográficas a un modelo semántico basado en el vocabulario [Schema.org](https://schema.org).\n",
    "\n",
    "En este prototipo se han seleccionado [10 obras](input/manifests.txt) a través de sus manifests en formato JSON de la colección [Relaciones Geográficas of Mexico and Guatemala](https://collections.lib.utexas.edu/?f%5Bmods_relatedItem_titleInfo_title_source_t%5D%5B%5D=Relaciones+Geogr%C3%A1ficas+of+Mexico+and+Guatemala). \n",
    "El [dataset](output/UNED_metadatos_csv.ttl) se ha transformado al formato RDF siguiendo el vocabulario Schema.org."
   ]
  },
  {
   "cell_type": "markdown",
   "id": "6ef58a58",
   "metadata": {},
   "source": [
    "### Importamos la librería rdflib y cargamos el fichero RDF "
   ]
  },
  {
   "cell_type": "code",
   "execution_count": 1,
   "id": "62b0a9b5",
   "metadata": {},
   "outputs": [],
   "source": [
    "from rdflib import Graph\n",
    "\n",
    "# Create a Graph\n",
    "g = Graph().parse(\"../output/UNED_metadatos_csv.ttl\")"
   ]
  },
  {
   "cell_type": "markdown",
   "id": "8c8756a3",
   "metadata": {},
   "source": [
    "### Consultar número de clases"
   ]
  },
  {
   "cell_type": "code",
   "execution_count": 2,
   "id": "19f0fd80",
   "metadata": {},
   "outputs": [
    {
     "name": "stdout",
     "output_type": "stream",
     "text": [
      "##### numero de clases\n",
      "2\n"
     ]
    }
   ],
   "source": [
    "print('##### numero de clases')\n",
    "\n",
    "# Query the data in g using SPARQL\n",
    "q = \"\"\"\n",
    "    SELECT (count(distinct ?class) as ?classes)\n",
    "    WHERE {\n",
    "        ?s a ?class .\n",
    "    }\n",
    "\"\"\"\n",
    "\n",
    "# Apply the query to the graph and iterate through results\n",
    "for r in g.query(q):\n",
    "    print(r[\"classes\"])\n"
   ]
  },
  {
   "cell_type": "markdown",
   "id": "2b5db07c",
   "metadata": {},
   "source": [
    "### Consultar número de propiedades"
   ]
  },
  {
   "cell_type": "code",
   "execution_count": 3,
   "id": "79e6ec69",
   "metadata": {},
   "outputs": [
    {
     "name": "stdout",
     "output_type": "stream",
     "text": [
      "##### numero de propiedades\n",
      "8\n"
     ]
    }
   ],
   "source": [
    "print('##### numero de propiedades')\n",
    "\n",
    "# Query the data in g using SPARQL\n",
    "q = \"\"\"\n",
    "    SELECT (count(distinct ?prop) as ?properties)\n",
    "    WHERE {\n",
    "        ?s ?prop ?o .\n",
    "    }\n",
    "\"\"\"\n",
    "\n",
    "# Apply the query to the graph and iterate through results\n",
    "for r in g.query(q):\n",
    "    print(r[\"properties\"])\n"
   ]
  },
  {
   "cell_type": "markdown",
   "id": "2781494e",
   "metadata": {},
   "source": [
    "### Consultar enlaces a repositorios externos"
   ]
  },
  {
   "cell_type": "code",
   "execution_count": 4,
   "id": "6f8e1ca9",
   "metadata": {},
   "outputs": [
    {
     "name": "stdout",
     "output_type": "stream",
     "text": [
      "##### owl:sameAs\n",
      "0\n"
     ]
    }
   ],
   "source": [
    "print('##### owl:sameAs')\n",
    "    \n",
    "# Query the data in g using SPARQL\n",
    "q = \"\"\"\n",
    "    SELECT (count(distinct ?sameAs) as ?total)\n",
    "    WHERE {\n",
    "        ?p owl:sameAs ?sameAs .\n",
    "    }\n",
    "\"\"\"\n",
    "\n",
    "# Apply the query to the graph and iterate through results\n",
    "for r in g.query(q):\n",
    "    print(r[\"total\"])"
   ]
  },
  {
   "cell_type": "markdown",
   "id": "49e828cd",
   "metadata": {},
   "source": [
    "### Número de tripletas"
   ]
  },
  {
   "cell_type": "code",
   "execution_count": 5,
   "id": "bae40ae0",
   "metadata": {},
   "outputs": [
    {
     "name": "stdout",
     "output_type": "stream",
     "text": [
      "##### numero de tripletas\n",
      "100\n"
     ]
    }
   ],
   "source": [
    "print('##### numero de tripletas')\n",
    "    \n",
    "# Query the data in g using SPARQL\n",
    "q = \"\"\"\n",
    "    SELECT (COUNT(*) as ?triples) \n",
    "    WHERE { ?s ?p ?o } \n",
    "\"\"\"\n",
    "\n",
    "# Apply the query to the graph and iterate through results\n",
    "for r in g.query(q):\n",
    "    print(r[\"triples\"])"
   ]
  },
  {
   "cell_type": "code",
   "execution_count": null,
   "id": "e470e145",
   "metadata": {},
   "outputs": [],
   "source": []
  }
 ],
 "metadata": {
  "kernelspec": {
   "display_name": "Python 3",
   "language": "python",
   "name": "python3"
  },
  "language_info": {
   "codemirror_mode": {
    "name": "ipython",
    "version": 3
   },
   "file_extension": ".py",
   "mimetype": "text/x-python",
   "name": "python",
   "nbconvert_exporter": "python",
   "pygments_lexer": "ipython3",
   "version": "3.9.18"
  }
 },
 "nbformat": 4,
 "nbformat_minor": 5
}
