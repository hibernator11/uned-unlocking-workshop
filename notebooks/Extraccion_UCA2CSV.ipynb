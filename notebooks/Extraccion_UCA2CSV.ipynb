{
 "cells": [
  {
   "cell_type": "markdown",
   "id": "0f432bff-c8c4-47c3-99c8-7d28d4868736",
   "metadata": {},
   "source": [
    "# Introducción\n",
    "\n",
    "Este ejemplo se encarga de extraer los metadatos necesarios de la colección. En concreto, vamos a extraer los datos titulo, autores, fecha y lugar."
   ]
  },
  {
   "cell_type": "markdown",
   "id": "71f2530e-a5dc-4545-a409-3007efd510b0",
   "metadata": {},
   "source": [
    "### En primer lugar cargamos las librerías necesarias"
   ]
  },
  {
   "cell_type": "code",
   "execution_count": 1,
   "id": "85fcac8e-115f-469a-9856-0938bcc970e7",
   "metadata": {},
   "outputs": [],
   "source": [
    "import urllib.request, json\n",
    "import csv"
   ]
  },
  {
   "cell_type": "markdown",
   "id": "82a481ac-007a-4d33-aceb-06436e935ae9",
   "metadata": {},
   "source": [
    "### Función que extrae los campos requeridos"
   ]
  },
  {
   "cell_type": "code",
   "execution_count": 2,
   "id": "04e594c4-80c0-4b55-bccf-c0fa41c449a6",
   "metadata": {},
   "outputs": [],
   "source": [
    "def getCampos(urlmanifest):\n",
    "    manifest = json.load(urllib.request.urlopen(urlmanifest))\n",
    "\n",
    "    titulo = ''\n",
    "    #autores = ''\n",
    "    fecha = ''\n",
    "    #lugar = ''\n",
    "    #coordenadas = ''\n",
    "    thumbnail = ''\n",
    "    licencia = ''\n",
    "\n",
    "    for met in manifest['metadata']:\n",
    "        if met['label'] == \"Primary Title\":\n",
    "            titulo =  met['value'][0]['@value']\n",
    "        \n",
    "        #elif met['label'] == \"Creator/Contributor\":\n",
    "        #    autores = met['value']['@value']\n",
    "        elif met['label'] == \"Date Created/Date Issued\":\n",
    "            fecha = met['value']['@value']\n",
    "        #elif met['label'] == \"Place Name\":\n",
    "        #    lugar = met['value'][0]['@value']\n",
    "        #elif met['label'] == \"Cartographic Information\":\n",
    "        #    coordenadas =  met['value']['@value']    \n",
    "        elif met['label'] == \"Thumbnail URI\":\n",
    "            thumbnail =  met['value']\n",
    "        elif met['label'] == \"License\":\n",
    "            licencia =  met['value']['@value'] \n",
    "\n",
    "    print(titulo, fecha)\n",
    "    return [titulo, fecha, thumbnail, licencia, urlmanifest]\n",
    "   "
   ]
  },
  {
   "cell_type": "markdown",
   "id": "77822532-3197-4f58-8182-029691a297a7",
   "metadata": {},
   "source": [
    "### Recorremos los manifests y montamos nuestro fichero CSV"
   ]
  },
  {
   "cell_type": "code",
   "execution_count": 3,
   "id": "1c2bae82-3fad-4ad5-97f2-df6b93038e6b",
   "metadata": {},
   "outputs": [
    {
     "name": "stdout",
     "output_type": "stream",
     "text": [
      "Pintura de Ameca 1579-10-02\n",
      "Pintura de Cuzcatlan 1580-10-26\n",
      "Pintura de Cholula 1580-11-30\n",
      "Pintura de Zapotitlan 1579-11-22\n",
      "Pintura de Acapistla 1580-10-10\n",
      "Pintura de Atengo y Misquiahuala 1579-10-08\n",
      "Pintura de Cempoala 1580-11-01\n",
      "Pintura de Atlatlauhca 1580-09-17\n",
      "Pintura de Coatzacualco 1580-04-29\n",
      "Pintura de Culhuacan 1580-01-17\n"
     ]
    }
   ],
   "source": [
    "file1 = open('../input/manifests.txt', 'r')\n",
    "lines = file1.readlines()\n",
    "\n",
    "registros = []\n",
    "  \n",
    "count = 0\n",
    "\n",
    "for line in lines:\n",
    "    count += 1\n",
    "    urlmanifest = line.strip()\n",
    "    \n",
    "    r = getCampos(urlmanifest)\n",
    "    registros.append(r) "
   ]
  },
  {
   "cell_type": "markdown",
   "id": "d76bcb87-630d-41c5-97cf-1ccab0c95469",
   "metadata": {},
   "source": [
    "### Y ahora generamos el fichero CSV con el contenido que hemos seleccionado"
   ]
  },
  {
   "cell_type": "code",
   "execution_count": 4,
   "id": "7cf97062-a08f-45ed-8f47-6844072d5bdf",
   "metadata": {},
   "outputs": [],
   "source": [
    "header = ['titulo', 'fecha', 'thumbnail', 'licencia', 'urlmanifest']   \n",
    "\n",
    "with open('../output/metadatos.csv', 'w', encoding='UTF8') as f:\n",
    "    writer = csv.writer(f)\n",
    "    \n",
    "    # anadimos la cabecera\n",
    "    writer.writerow(header)\n",
    "\n",
    "    # transformar a CSV\n",
    "    for r in registros:\n",
    "        # escribir el registro linea a linea    \n",
    "        writer.writerow(r)"
   ]
  }
 ],
 "metadata": {
  "kernelspec": {
   "display_name": "Python 3",
   "language": "python",
   "name": "python3"
  },
  "language_info": {
   "codemirror_mode": {
    "name": "ipython",
    "version": 3
   },
   "file_extension": ".py",
   "mimetype": "text/x-python",
   "name": "python",
   "nbconvert_exporter": "python",
   "pygments_lexer": "ipython3",
   "version": "3.9.18"
  }
 },
 "nbformat": 4,
 "nbformat_minor": 5
}
