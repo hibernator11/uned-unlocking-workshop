{
 "cells": [
  {
   "cell_type": "markdown",
   "id": "0f432bff-c8c4-47c3-99c8-7d28d4868736",
   "metadata": {},
   "source": [
    "# Introducción\n",
    "\n",
    "Este ejemplo se encarga de extraer los metadatos necesarios de la colección. En concreto, vamos a extraer los datos titulo, autores, fecha y lugar."
   ]
  },
  {
   "cell_type": "markdown",
   "id": "71f2530e-a5dc-4545-a409-3007efd510b0",
   "metadata": {},
   "source": [
    "### En primer lugar cargamos las librerías necesarias"
   ]
  },
  {
   "cell_type": "code",
   "execution_count": 1,
   "id": "85fcac8e-115f-469a-9856-0938bcc970e7",
   "metadata": {},
   "outputs": [],
   "source": [
    "import urllib.request, json\n",
    "import csv"
   ]
  },
  {
   "cell_type": "markdown",
   "id": "82a481ac-007a-4d33-aceb-06436e935ae9",
   "metadata": {},
   "source": [
    "### Función que extrae los campos requeridos"
   ]
  },
  {
   "cell_type": "code",
   "execution_count": 47,
   "id": "04e594c4-80c0-4b55-bccf-c0fa41c449a6",
   "metadata": {},
   "outputs": [],
   "source": [
    "def getCampos(urlmanifest):\n",
    "    manifest = json.load(urllib.request.urlopen(urlmanifest))\n",
    "\n",
    "    titulo = ''\n",
    "    autores = ''\n",
    "    fecha = ''\n",
    "    lugar = ''\n",
    "    coordenadas = ''\n",
    "    thumbnail = ''\n",
    "    licencia = ''\n",
    "\n",
    "    for met in manifest['metadata']:\n",
    "        if met['label'] == \"Primary Title\":\n",
    "            titulo =  met['value'][0]['@value']\n",
    "        \n",
    "        elif met['label'] == \"Creator/Contributor\":\n",
    "            autores = met['value']['@value']\n",
    "        elif met['label'] == \"Date Created/Date Issued\":\n",
    "            fecha = met['value']['@value']\n",
    "        elif met['label'] == \"Place Name\":\n",
    "            lugar = met['value'][0]['@value']\n",
    "        elif met['label'] == \"Cartographic Information\":\n",
    "            coordenadas =  met['value']['@value']    \n",
    "        elif met['label'] == \"Thumbnail URI\":\n",
    "            thumbnail =  met['value']\n",
    "        elif met['label'] == \"License\":\n",
    "            licencia =  met['value']['@value'] \n",
    "\n",
    "    print(titulo, autores, fecha, lugar)\n",
    "    return [titulo, autores, fecha, lugar, coordenadas, thumbnail, licencia, urlmanifest]\n",
    "   "
   ]
  },
  {
   "cell_type": "markdown",
   "id": "77822532-3197-4f58-8182-029691a297a7",
   "metadata": {},
   "source": [
    "### Recorremos los manifests y montamos nuestro fichero CSV"
   ]
  },
  {
   "cell_type": "code",
   "execution_count": 48,
   "id": "1c2bae82-3fad-4ad5-97f2-df6b93038e6b",
   "metadata": {},
   "outputs": [
    {
     "name": "stdout",
     "output_type": "stream",
     "text": [
      "Linea1: https://curio.lib.utexas.edu/assets/DAMS/utblac/utblac_38127378-7a33-412f-a425-cc511ff1d351/manifests/2/utblac_38127378-7a33-412f-a425-cc511ff1d351.json\n",
      "Pintura de Ameca unknown (artist)| Leyva, Antonio de (contributor)| Moras, Pedro de (scribe)| Bejarano, Pedro (signer)| Núñez, Juan (signer)| Cortes, Martín (signer)| Mesa, Francisco de (signer)| Vázquez, Juan (signer)| García Icazbalceta, Joaquín,‏ ‎1825-1894 (collector) 1579-10-02 MX| Diocese of Guadalajara| Ameca, Jalisco, Mexico\n",
      "Linea2: https://curio.lib.utexas.edu/assets/DAMS/utblac/utblac_e38f8f71-f967-46fb-9493-1edec8cbc1b3/manifests/2/utblac_e38f8f71-f967-46fb-9493-1edec8cbc1b3.json\n",
      "Pintura de Cuzcatlan unknown (artist)| Castañeda León, Juan de (signer)| García, Pero (interpreter)| Cortes, Martin (contributor)| García, Alonso (scribe)| García Icazbalceta, Joaquín,‏ ‎1825-1894 (collector) 1580-10-26 MX| Diocese of Tlaxcala| Coxcatlán, Puebla, Mexico\n",
      "Linea3: https://curio.lib.utexas.edu/assets/DAMS/utblac/utblac_90dca2a6-6851-4d2b-b6c9-9fc2b75104b7/manifests/2/utblac_90dca2a6-6851-4d2b-b6c9-9fc2b75104b7.json\n",
      "Pintura de Cholula unknown (artist)| Rojas, Gabriel de (scribe)| Rojas, Gabriel de (signer)| García Icazbalceta, Joaquín,‏ ‎1825-1894 (collector) 1580-11-30 MX| Diocese of Tlaxcala| Cholula de Rivadabia, Puebla, Mexico\n",
      "Linea4: https://curio.lib.utexas.edu/assets/DAMS/utblac/utblac_32713c87-b23c-474c-acb9-0757bc1d2dd3/manifests/2/utblac_32713c87-b23c-474c-acb9-0757bc1d2dd3.json\n",
      "Pintura de Zapotitlan Niebla, Fernando de (artist)| Estrada, Juan de (contributor)| Niebla, Fernando de (scribe)| García Icazbalceta, Joaquín,‏ ‎1825-1894 (collector) 1579-11-22 GT| Diocese of Guatemala| San Antonio Suchitepéquez, Suchitepéquez, Guatemala\n",
      "Linea5: https://curio.lib.utexas.edu/assets/DAMS/utblac/utblac_9202cf3b-3a38-4498-89bc-67d0b03e9509/manifests/2/utblac_9202cf3b-3a38-4498-89bc-67d0b03e9509.json\n",
      "Pintura de Acapistla unknown (artist)| Gutiérrez de Liébana, Juan (contributor)| Gutiérrez de Liébana, Juan (signer)| Cortés, Pablo (signer)| San Juan, Martín de (signer)| Cruz, Gabriel de la (signer)| Perales, Francisco de (interpreter)| García Ruiz, Hernán (scribe)| García Icazbalceta, Joaquín,‏ ‎1825-1894 (collector) 1580-10-10 MX| Archdiocese of Mexico| Yecapixtla, Morelos, Mexico\n",
      "Linea6: https://curio.lib.utexas.edu/assets/DAMS/utblac/utblac_d6360c5d-e505-49af-84a3-b2538f7be43b/manifests/2/utblac_d6360c5d-e505-49af-84a3-b2538f7be43b.json\n",
      "Pintura de Atengo y Misquiahuala unknown (artist)| Padilla, Juan de (signer)| Fernández de Córdoba, Francisco (scribe)| García Icazbalceta, Joaquín,‏ ‎1825-1894 (collector) 1579-10-08 MX| Archdiocese of Mexico| Atengo, Hidalgo, Mexico| Mixquiahuala de Juárez, Hidalgo, Mexico\n",
      "Linea7: https://curio.lib.utexas.edu/assets/DAMS/utblac/utblac_b35a74c8-358b-4192-8c61-9668332985dd/manifests/2/utblac_b35a74c8-358b-4192-8c61-9668332985dd.json\n",
      "Pintura de Cempoala unknown (artist)| Obregón, Luis de (signer)| Umana, Juan de (contributor)| Osorio, Bartolomé (scribe)| Mendoza, Diego de (contributor)| Guzmán, Don Francisco de (contributor)| Aquino, Don Pablo de (contributor)| Ircio, Martín de (contributor)| García Icazbalceta, Joaquín,‏ ‎1825-1894 (collector) 1580-11-01 MX| Archdiocese of Mexico| Zempoala, Hidalgo, Mexico\n",
      "Linea8: https://curio.lib.utexas.edu/assets/DAMS/utblac/utblac_4283412f-28f4-4452-a1fd-0faef9ed2fcb/manifests/2/utblac_4283412f-28f4-4452-a1fd-0faef9ed2fcb.json\n",
      "Pintura de Atlatlauhca unknown (artist)| Solís, Gaspar de (signer)| Hernández, Don Pablo (witness)| Jacobo, Don Diego (witness)| Lorenzo, Juan (interpreter)| Aguilera, Pedro de (scribe)| García Icazbalceta, Joaquín,‏ ‎1825-1894 (collector) 1580-09-17 MX| Archdiocese of Mexico| San Bartolomé Atlatlahuca, State of Mexico, Mexico\n",
      "Linea9: https://curio.lib.utexas.edu/assets/DAMS/utblac/utblac_9a78720b-d927-4635-bdc0-9993a3024f9a/manifests/2/utblac_9a78720b-d927-4635-bdc0-9993a3024f9a.json\n",
      "Pintura de Coatzacualco Stroza Gali, Francisco (artist)| Cangas y Quiñonez , Suero de (contributor)| Basurto, Diego (witness)| Martín de Valencia, Juan (witness)| Hernández Alconohel, Gonzalo (witness)| García Icazbalceta, Joaquín,‏ ‎1825-1894 (collector) 1580-04-29 MX| Diocese of Oaxaca| Coatzacoalcos, Veracruz, Mexico\n",
      "Linea10: https://curio.lib.utexas.edu/assets/DAMS/utblac/utblac_d5ddf214-248e-462f-acdc-81d27463226f/manifests/2/utblac_d5ddf214-248e-462f-acdc-81d27463226f.json\n",
      "Pintura de Culhuacan San Agustín, Pedro de (artist)| Gallegos, Gonzalo (signer)| Núñez, Fray Juan (scribe)| Paz, Diego de (contributor)| Salcedo, Francisco de (scribe)| Núñez, Fray Juan (signer)| García Icazbalceta, Joaquín,‏ ‎1825-1894 (collector) 1580-01-17 MX| Archdiocese of Mexico| Culhuacán, State of Mexico, Mexico\n"
     ]
    }
   ],
   "source": [
    "file1 = open('../input/manifests.txt', 'r')\n",
    "lines = file1.readlines()\n",
    "\n",
    "registros = []\n",
    "  \n",
    "count = 0\n",
    "\n",
    "for line in lines:\n",
    "    count += 1\n",
    "    print(\"Linea{}: {}\".format(count, line.strip()))\n",
    "    urlmanifest = line.strip()\n",
    "    \n",
    "    r = getCampos(urlmanifest)\n",
    "    registros.append(r) "
   ]
  },
  {
   "cell_type": "markdown",
   "id": "d76bcb87-630d-41c5-97cf-1ccab0c95469",
   "metadata": {},
   "source": [
    "### Y ahora generamos el fichero CSV con el contenido que hemos seleccionado"
   ]
  },
  {
   "cell_type": "code",
   "execution_count": 51,
   "id": "7cf97062-a08f-45ed-8f47-6844072d5bdf",
   "metadata": {},
   "outputs": [],
   "source": [
    "header = ['titulo', 'autores', 'fecha', 'lugar', 'coordenadas', 'thumbnail', 'licencia', 'urlmanifest']   \n",
    "\n",
    "with open('../output/metadatos.csv', 'w', encoding='UTF8') as f:\n",
    "    writer = csv.writer(f)\n",
    "    \n",
    "    # anadimos la cabecera\n",
    "    writer.writerow(header)\n",
    "\n",
    "    # transformar a CSV\n",
    "    for r in registros:\n",
    "        # escribir el registro linea a linea    \n",
    "        writer.writerow(r)"
   ]
  }
 ],
 "metadata": {
  "kernelspec": {
   "display_name": "Python 3",
   "language": "python",
   "name": "python3"
  },
  "language_info": {
   "codemirror_mode": {
    "name": "ipython",
    "version": 3
   },
   "file_extension": ".py",
   "mimetype": "text/x-python",
   "name": "python",
   "nbconvert_exporter": "python",
   "pygments_lexer": "ipython3",
   "version": "3.9.18"
  }
 },
 "nbformat": 4,
 "nbformat_minor": 5
}
